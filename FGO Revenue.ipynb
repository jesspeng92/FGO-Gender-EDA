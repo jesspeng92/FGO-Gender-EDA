{
 "cells": [
  {
   "cell_type": "code",
   "execution_count": 18,
   "metadata": {},
   "outputs": [],
   "source": [
    "from bs4 import BeautifulSoup\n",
    "import requests\n",
    "import pandas as pd\n",
    "import itertools\n",
    "from selenium import webdriver\n",
    "from selenium.webdriver.common.by import By\n",
    "import time\n",
    "import json\n",
    "from selenium.webdriver.chrome.options import Options"
   ]
  },
  {
   "cell_type": "code",
   "execution_count": 5,
   "metadata": {},
   "outputs": [
    {
     "data": {
      "text/plain": [
       "<Response [200]>"
      ]
     },
     "execution_count": 5,
     "metadata": {},
     "output_type": "execute_result"
    }
   ],
   "source": [
    "# Create an URL object\n",
    "url = 'https://game-i.daa.jp/?%E3%82%A2%E3%83%97%E3%83%AA/Fate/Grand+Order'\n",
    "# Create object page\n",
    "page = requests.get(url)\n",
    "page # <Response [200]> We can scrape from the website."
   ]
  },
  {
   "cell_type": "code",
   "execution_count": 6,
   "metadata": {},
   "outputs": [],
   "source": [
    "table = pd.read_html(\"https://game-i.daa.jp/?%E3%82%A2%E3%83%97%E3%83%AA/Fate/Grand+Order\")"
   ]
  },
  {
   "cell_type": "code",
   "execution_count": 7,
   "metadata": {},
   "outputs": [],
   "source": [
    "info_table = []\n",
    "for i in table:\n",
    "    if '年月' in i.columns:\n",
    "        i.columns = [\"Month\", \"Revenue\", \"Average iOS Ranking\"]\n",
    "        info_table.append(i)"
   ]
  },
  {
   "cell_type": "code",
   "execution_count": 8,
   "metadata": {},
   "outputs": [
    {
     "data": {
      "text/html": [
       "<div>\n",
       "<style scoped>\n",
       "    .dataframe tbody tr th:only-of-type {\n",
       "        vertical-align: middle;\n",
       "    }\n",
       "\n",
       "    .dataframe tbody tr th {\n",
       "        vertical-align: top;\n",
       "    }\n",
       "\n",
       "    .dataframe thead th {\n",
       "        text-align: right;\n",
       "    }\n",
       "</style>\n",
       "<table border=\"1\" class=\"dataframe\">\n",
       "  <thead>\n",
       "    <tr style=\"text-align: right;\">\n",
       "      <th></th>\n",
       "      <th>Month</th>\n",
       "      <th>Revenue</th>\n",
       "      <th>Average iOS Ranking</th>\n",
       "    </tr>\n",
       "  </thead>\n",
       "  <tbody>\n",
       "    <tr>\n",
       "      <th>0</th>\n",
       "      <td>2021/12</td>\n",
       "      <td>39.59億G</td>\n",
       "      <td>9.9位</td>\n",
       "    </tr>\n",
       "    <tr>\n",
       "      <th>1</th>\n",
       "      <td>2021/11</td>\n",
       "      <td>39.49億G</td>\n",
       "      <td>7.8位</td>\n",
       "    </tr>\n",
       "    <tr>\n",
       "      <th>2</th>\n",
       "      <td>2021/10</td>\n",
       "      <td>25.59億G</td>\n",
       "      <td>14.1位</td>\n",
       "    </tr>\n",
       "    <tr>\n",
       "      <th>3</th>\n",
       "      <td>2021/09</td>\n",
       "      <td>67.10億G</td>\n",
       "      <td>6.6位</td>\n",
       "    </tr>\n",
       "    <tr>\n",
       "      <th>4</th>\n",
       "      <td>2021/08</td>\n",
       "      <td>90.29億G</td>\n",
       "      <td>4.8位</td>\n",
       "    </tr>\n",
       "    <tr>\n",
       "      <th>5</th>\n",
       "      <td>2021/07</td>\n",
       "      <td>17.82億G</td>\n",
       "      <td>22.1位</td>\n",
       "    </tr>\n",
       "    <tr>\n",
       "      <th>6</th>\n",
       "      <td>2021/06</td>\n",
       "      <td>32.82億G</td>\n",
       "      <td>13.3位</td>\n",
       "    </tr>\n",
       "    <tr>\n",
       "      <th>7</th>\n",
       "      <td>2021/05</td>\n",
       "      <td>8.93億G</td>\n",
       "      <td>22.3位</td>\n",
       "    </tr>\n",
       "    <tr>\n",
       "      <th>8</th>\n",
       "      <td>2021/04</td>\n",
       "      <td>9.75億G</td>\n",
       "      <td>31位</td>\n",
       "    </tr>\n",
       "    <tr>\n",
       "      <th>9</th>\n",
       "      <td>2021/03</td>\n",
       "      <td>17.43億G</td>\n",
       "      <td>17.9位</td>\n",
       "    </tr>\n",
       "    <tr>\n",
       "      <th>10</th>\n",
       "      <td>2021/02</td>\n",
       "      <td>27.78億G</td>\n",
       "      <td>13.5位</td>\n",
       "    </tr>\n",
       "    <tr>\n",
       "      <th>11</th>\n",
       "      <td>2021/01</td>\n",
       "      <td>75.37億G</td>\n",
       "      <td>4.7位</td>\n",
       "    </tr>\n",
       "    <tr>\n",
       "      <th>12</th>\n",
       "      <td>合計</td>\n",
       "      <td>451.95億G</td>\n",
       "      <td>-</td>\n",
       "    </tr>\n",
       "  </tbody>\n",
       "</table>\n",
       "</div>"
      ],
      "text/plain": [
       "      Month   Revenue Average iOS Ranking\n",
       "0   2021/12   39.59億G                9.9位\n",
       "1   2021/11   39.49億G                7.8位\n",
       "2   2021/10   25.59億G               14.1位\n",
       "3   2021/09   67.10億G                6.6位\n",
       "4   2021/08   90.29億G                4.8位\n",
       "5   2021/07   17.82億G               22.1位\n",
       "6   2021/06   32.82億G               13.3位\n",
       "7   2021/05    8.93億G               22.3位\n",
       "8   2021/04    9.75億G                 31位\n",
       "9   2021/03   17.43億G               17.9位\n",
       "10  2021/02   27.78億G               13.5位\n",
       "11  2021/01   75.37億G                4.7位\n",
       "12       合計  451.95億G                   -"
      ]
     },
     "execution_count": 8,
     "metadata": {},
     "output_type": "execute_result"
    }
   ],
   "source": [
    "info_table[1]"
   ]
  },
  {
   "cell_type": "code",
   "execution_count": 9,
   "metadata": {},
   "outputs": [],
   "source": [
    "base_url = \"https://game-i.daa.jp/?%E3%82%AC%E3%83%81%E3%83%A3%E5%88%86%E6%9E%90%2FFate%2FGrand%20Order&yyyy=\"\n",
    "years = list(range(2018, 2023))"
   ]
  },
  {
   "cell_type": "code",
   "execution_count": 10,
   "metadata": {},
   "outputs": [],
   "source": [
    "def get_Banners(year:int):\n",
    "    url = base_url + str(year)\n",
    "    gacha_tabs = pd.read_html(url)\n",
    "    return gacha_tabs"
   ]
  },
  {
   "cell_type": "code",
   "execution_count": 11,
   "metadata": {},
   "outputs": [],
   "source": [
    "banner_list = []\n",
    "for year in years:\n",
    "    banner_list.append(get_Banners(year))"
   ]
  },
  {
   "cell_type": "code",
   "execution_count": 14,
   "metadata": {},
   "outputs": [
    {
     "data": {
      "text/plain": [
       "238"
      ]
     },
     "execution_count": 14,
     "metadata": {},
     "output_type": "execute_result"
    }
   ],
   "source": [
    "x = list(itertools.chain(*banner_list))\n",
    "len(x)"
   ]
  },
  {
   "cell_type": "code",
   "execution_count": 15,
   "metadata": {},
   "outputs": [
    {
     "data": {
      "text/plain": [
       "228"
      ]
     },
     "execution_count": 15,
     "metadata": {},
     "output_type": "execute_result"
    }
   ],
   "source": [
    "y = []\n",
    "for i in x:\n",
    "    if len(i) == 3:\n",
    "        y.append(i)\n",
    "len(y)"
   ]
  },
  {
   "cell_type": "code",
   "execution_count": 16,
   "metadata": {},
   "outputs": [
    {
     "data": {
      "text/html": [
       "<div>\n",
       "<style scoped>\n",
       "    .dataframe tbody tr th:only-of-type {\n",
       "        vertical-align: middle;\n",
       "    }\n",
       "\n",
       "    .dataframe tbody tr th {\n",
       "        vertical-align: top;\n",
       "    }\n",
       "\n",
       "    .dataframe thead th {\n",
       "        text-align: right;\n",
       "    }\n",
       "</style>\n",
       "<table border=\"1\" class=\"dataframe\">\n",
       "  <thead>\n",
       "    <tr style=\"text-align: right;\">\n",
       "      <th></th>\n",
       "      <th>0</th>\n",
       "      <th>1</th>\n",
       "    </tr>\n",
       "  </thead>\n",
       "  <tbody>\n",
       "    <tr>\n",
       "      <th>0</th>\n",
       "      <td>実施期間</td>\n",
       "      <td>2018年12月04日～2018年12月18日</td>\n",
       "    </tr>\n",
       "    <tr>\n",
       "      <th>1</th>\n",
       "      <td>売上予測</td>\n",
       "      <td>30.96億G</td>\n",
       "    </tr>\n",
       "    <tr>\n",
       "      <th>2</th>\n",
       "      <td>集計順位</td>\n",
       "      <td>17位 / 全228件</td>\n",
       "    </tr>\n",
       "  </tbody>\n",
       "</table>\n",
       "</div>"
      ],
      "text/plain": [
       "      0                        1\n",
       "0  実施期間  2018年12月04日～2018年12月18日\n",
       "1  売上予測                  30.96億G\n",
       "2  集計順位              17位 / 全228件"
      ]
     },
     "execution_count": 16,
     "metadata": {},
     "output_type": "execute_result"
    }
   ],
   "source": [
    "y[2]"
   ]
  },
  {
   "cell_type": "markdown",
   "metadata": {},
   "source": [
    "Change the code above! Data frame has Banner start date, banner end date, revenue, and ranking.\n",
    "Also convert the currency into USD."
   ]
  },
  {
   "cell_type": "code",
   "execution_count": 17,
   "metadata": {},
   "outputs": [
    {
     "data": {
      "text/plain": [
       "<Response [200]>"
      ]
     },
     "execution_count": 17,
     "metadata": {},
     "output_type": "execute_result"
    }
   ],
   "source": [
    "# Create an URL object\n",
    "url = 'https://gamepress.gg/grandorder/summon-banner-list'\n",
    "# Create object page\n",
    "page = requests.get(url)\n",
    "page # <Response [200]> We can scrape from the website."
   ]
  },
  {
   "cell_type": "markdown",
   "metadata": {},
   "source": [
    "Referenced from here: <a href=\"https://medium.com/nerd-for-tech/web-scraping-character-stats-from-the-arknights-wiki-using-python-and-selenium-61e33a968092\">Web Scraping on Gamepress</a>."
   ]
  },
  {
   "cell_type": "code",
   "execution_count": 36,
   "metadata": {},
   "outputs": [],
   "source": [
    "# Dynamically install a Chrome web driver and instantiate it\n",
    "driver = webdriver.Chrome()\n",
    "# Make the driver wait 7 seconds for the page to load\n",
    "driver.implicitly_wait(10)\n",
    "driver.get(\"https://gamepress.gg/grandorder/summon-banner-list\")\n",
    "html = driver.page_source"
   ]
  },
  {
   "cell_type": "code",
   "execution_count": 38,
   "metadata": {},
   "outputs": [
    {
     "name": "stdout",
     "output_type": "stream",
     "text": [
      "[<table id=\"banner-table\"><thead><tr><th class=\"views-field views-field-field-id header\" id=\"view-field-id-table-column\" scope=\"col\">#</th>\n",
      "<th class=\"views-field views-field-title header\" id=\"view-title-table-column\" scope=\"col\">Banner</th>\n",
      "<th class=\"views-field views-field-field-period header\" id=\"view-field-period-table-column\" scope=\"col\">JP Period</th>\n",
      "<th class=\"views-field views-field-field-naperiod header\" id=\"view-field-naperiod-table-column\" scope=\"col\">NA Period</th>\n",
      "<th class=\"views-field views-field-field-single header\" id=\"view-field-single-table-column\" scope=\"col\">Servants (Single)</th>\n",
      "<th class=\"views-field views-field-field-shared header\" id=\"view-field-shared-table-column\" scope=\"col\">Servants (Shared)</th>\n",
      "</tr></thead><tbody id=\"banner-list\"></tbody></table>]\n"
     ]
    }
   ],
   "source": [
    "soup = BeautifulSoup(html)\n",
    "table = soup.find_all('table', id='banner-table')\n",
    "#print(soup.prettify())\n",
    "print(table)"
   ]
  }
 ],
 "metadata": {
  "kernelspec": {
   "display_name": "Python 3 (ipykernel)",
   "language": "python",
   "name": "python3"
  },
  "language_info": {
   "codemirror_mode": {
    "name": "ipython",
    "version": 3
   },
   "file_extension": ".py",
   "mimetype": "text/x-python",
   "name": "python",
   "nbconvert_exporter": "python",
   "pygments_lexer": "ipython3",
   "version": "3.9.12"
  }
 },
 "nbformat": 4,
 "nbformat_minor": 4
}
